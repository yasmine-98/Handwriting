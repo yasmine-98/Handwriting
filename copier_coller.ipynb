{
 "cells": [
  {
   "cell_type": "code",
   "execution_count": 2,
   "id": "8f021032",
   "metadata": {},
   "outputs": [
    {
     "data": {
      "image/png": "[encoded data removed]",
      "text/plain": [
       "<Figure size 432x288 with 1 Axes>"
      ]
     },
     "metadata": {
      "needs_background": "light"
     },
     "output_type": "display_data"
    }
   ],
   "source": [
    "from PIL import Image \n",
    "import matplotlib.pyplot as plt \n",
    "Image1 = Image.open('gris.jpg') \n",
    "w,h=Image1.size \n",
    "Image1copy = Image1.copy() \n",
    "Image2 = Image.open('./caracteres/word0/caractere0.png') \n",
    "Image2copy = Image2.copy() \n",
    "  \n",
    "Image1copy.paste(Image2copy, (w//2, h//2)) \n",
    "plt.imshow(Image1copy)\n",
    "Image1copy.save('img.png') "
   ]
  },
  {
   "cell_type": "code",
   "execution_count": 6,
   "id": "5ffef8bd",
   "metadata": {},
   "outputs": [
    {
     "data": {
      "image/png": "[encoded data removed]",
      "text/plain": [
       "<Figure size 432x288 with 1 Axes>"
      ]
     },
     "metadata": {
      "needs_background": "light"
     },
     "output_type": "display_data"
    }
   ],
   "source": [
    "import cv2\n",
    "im= cv2.imread('./caracteres/word0/caractere0.png')\n",
    "#im=cv2.imread(\"/home/yasmine/Téléchargements/maj/K.jpeg\")\n",
    "im = cv2.cvtColor(im, cv2.COLOR_BGR2GRAY)\n",
    "#im=cv2.resize(im, (15,15))\n",
    "im=cv2.resize(im, (224,224))\n",
    "plt.imshow(im)\n",
    "#im=255-im\n",
    "_, im = cv2.threshold(im, 200, 255, cv2.THRESH_BINARY_INV)\n",
    "\n",
    "cv2.imwrite('img.jpg',im) \n",
    "plt.imshow(im)\n",
    "#im.save('img.jpg', 'JPEG')\n",
    "Image1 = Image.open('noir.png') \n",
    "newsize=(250,250)\n",
    "Image1 = Image1.resize(newsize)\n",
    "w,h=Image1.size \n",
    "Image1copy = Image1.copy() \n",
    "#im= cv2.imread(\"img.png\")\n",
    "#plt.imshow(255-im)\n",
    "Image2 = Image.open('img.jpg') \n",
    "Image1copy.paste(Image2, (5, 5))\n",
    "#img_gray = cv2.cvtColor(im, cv2.COLOR_BGR2GRAY)\n",
    "#plt.imshow(img_gray)\n",
    "#plt.imshow(Image1copy)\n",
    "Image1copy.save('img.png') "
   ]
  },
  {
   "cell_type": "code",
   "execution_count": null,
   "id": "b0fa2d51",
   "metadata": {},
   "outputs": [],
   "source": []
  },
  {
   "cell_type": "code",
   "execution_count": 8,
   "id": "00908f79",
   "metadata": {},
   "outputs": [],
   "source": [
    "import numpy as np"
   ]
  },
  {
   "cell_type": "code",
   "execution_count": 19,
   "id": "587a609c",
   "metadata": {},
   "outputs": [
    {
     "name": "stdout",
     "output_type": "stream",
     "text": [
      "The history saving thread hit an unexpected error (OperationalError('database is locked')).History will not be written to the database.\n"
     ]
    },
    {
     "data": {
      "text/plain": [
       "<matplotlib.image.AxesImage at 0x7faa7c02f8b0>"
      ]
     },
     "execution_count": 19,
     "metadata": {},
     "output_type": "execute_result"
    },
    {
     "data": {
      "image/png": "[encoded data removed]",
      "text/plain": [
       "<Figure size 432x288 with 1 Axes>"
      ]
     },
     "metadata": {
      "needs_background": "light"
     },
     "output_type": "display_data"
    }
   ],
   "source": [
    "im= cv2.imread('img.png')\n",
    "im_gray = cv2.cvtColor(im, cv2.COLOR_BGR2GRAY)\n",
    "image = cv2.GaussianBlur(im_gray, (5,5), 1)\n",
    "\n",
    "#plt.imshow(image)\n",
    "#th =  cv2.adaptiveThreshold(im_gray,0,cv2.ADAPTIVE_THRESH_GAUSSIAN_C,cv2.THRESH_BINARY,2,2)\n",
    "th = cv2.threshold(im_gray, 0, 255, cv2.THRESH_BINARY_INV + cv2.THRESH_OTSU)[1]\n",
    "#plt.imshow(th)\n",
    "contours, hierarchy = cv2.findContours(th, cv2.RETR_TREE, cv2.CHAIN_APPROX_SIMPLE)\n",
    "#cv2.drawContours(img, contours, -1, (0,255,0), 2)\n",
    "# create an empty mask\n",
    "mask = np.zeros(image.shape[:2], dtype=np.uint8)\n",
    "# loop through the contours\n",
    "for i, cnt in enumerate(contours):\n",
    "    # if the contour has no other contours inside of it\n",
    "    if hierarchy[0][i][2] == -1:\n",
    "        # if the size of the contour is greater than a threshold\n",
    "        if cv2.contourArea(cnt) <70:\n",
    "            cv2.drawContours(mask, [cnt], 0, (255), -1)\n",
    "plt.imshow(mask)\n",
    "result=th-mask\n",
    "plt.imshow(result)\n",
    "cv2.imwrite('img.jpg',result)\n",
    "im=cv2.imread('img.jpg')\n",
    "plt.imshow(im)\n",
    "im = cv2.GaussianBlur(im, (5,5), 0)\n",
    "im_gray = cv2.cvtColor(im, cv2.COLOR_BGR2GRAY)\n",
    "plt.imshow(im_gray)\n",
    "_, img_thresh = cv2.threshold(im_gray, 200, 255, cv2.THRESH_BINARY_INV)\n",
    "plt.imshow(img_thresh)"
   ]
  },
  {
   "cell_type": "code",
   "execution_count": 15,
   "id": "44d8fe63",
   "metadata": {},
   "outputs": [],
   "source": [
    "from tensorflow.keras.models import load_model\n",
    "model = load_model('modelAZ1.model')"
   ]
  },
  {
   "cell_type": "code",
   "execution_count": 16,
   "id": "a0bf7bf4",
   "metadata": {},
   "outputs": [],
   "source": [
    "labelNames = \"0123456789\"\n",
    "labelNames += \"ABCDEFGHIJKLMNOPQRSTUVWXYZ\"\n",
    "labelNames=[i for i in labelNames ]"
   ]
  },
  {
   "cell_type": "code",
   "execution_count": 17,
   "id": "fc1bfe05",
   "metadata": {},
   "outputs": [
    {
     "name": "stdout",
     "output_type": "stream",
     "text": [
      "1\n"
     ]
    },
    {
     "data": {
      "image/png": "[encoded data removed]",
      "text/plain": [
       "<Figure size 432x288 with 1 Axes>"
      ]
     },
     "metadata": {
      "needs_background": "light"
     },
     "output_type": "display_data"
    }
   ],
   "source": [
    "#image=cv2.imread(\"./caracteres/word0/caractere1.png\")\n",
    "img_copy = img_thresh.copy()\n",
    "#img = cv2.cvtColor(image, cv2.COLOR_BGR2RGB)\n",
    "\n",
    "#img_copy = cv2.GaussianBlur(img_copy, (5,5), 0)\n",
    "#img_gray = cv2.cvtColor(img_copy, cv2.COLOR_BGR2GRAY)\n",
    "#plt.imshow(img_gray)\n",
    "img_copy = cv2.resize(img_copy, (28,28))\n",
    "#_, img_thresh = cv2.threshold(img_copy, 200, 255, cv2.THRESH_BINARY_INV)\n",
    "#plt.imshow(img_thresh )\n",
    "#img_final = cv2.resize(img_thresh, (28,28))\n",
    "plt.imshow(img_copy)\n",
    "img_final =img_copy.reshape(1,28,28,1)\n",
    "\n",
    "data = np.array(img_final, dtype=\"float32\")\n",
    "data /= 255.0\n",
    "img_pred = labelNames[np.argmax(model.predict(data))]\n",
    "print(img_pred)"
   ]
  },
  {
   "cell_type": "code",
   "execution_count": 28,
   "id": "36024494",
   "metadata": {},
   "outputs": [
    {
     "data": {
      "text/plain": [
       "<matplotlib.image.AxesImage at 0x7f3558290f10>"
      ]
     },
     "execution_count": 28,
     "metadata": {},
     "output_type": "execute_result"
    },
    {
     "data": {
      "image/png": "[encoded data removed]",
      "text/plain": [
       "<Figure size 432x288 with 1 Axes>"
      ]
     },
     "metadata": {
      "needs_background": "light"
     },
     "output_type": "display_data"
    }
   ],
   "source": [
    "import numpy as np\n",
    "im=preprocessing('img.png')\n",
    "plt.imshow(im)"
   ]
  },
  {
   "cell_type": "code",
   "execution_count": 27,
   "id": "54582f95",
   "metadata": {},
   "outputs": [],
   "source": [
    "def preprocessing(path):\n",
    "    image = cv2.imread(path)\n",
    "    im_gray = cv2.cvtColor(image, cv2.COLOR_BGR2GRAY)\n",
    "    h,w=im_gray.shape\n",
    "    #cv2.imwrite('img.jpg',result)\n",
    "    #image=cv2.imread('img.jpg')\n",
    "    #gray = cv2.cvtColor(image, cv2.COLOR_BGR2GRAY)\n",
    "    image = cv2.GaussianBlur(im_gray, (5,5), 1)\n",
    "    #plt.imshow(image)\n",
    "    th =  cv2.adaptiveThreshold(im_gray,255,cv2.ADAPTIVE_THRESH_GAUSSIAN_C,cv2.THRESH_BINARY,3,2)\n",
    "    #plt.imshow(th)\n",
    "    #cv2.imwrite('img.jpg',th)\n",
    "    #image=cv2.imread('img.jpg')\n",
    "    #gray = cv2.cvtColor(th, cv2.COLOR_BGR2GRAY)\n",
    "    #plt.imshow(gray)\n",
    "    contours, hierarchy = cv2.findContours(th, cv2.RETR_TREE, cv2.CHAIN_APPROX_SIMPLE)\n",
    "    #cv2.drawContours(img, contours, -1, (0,255,0), 2)\n",
    "    # create an empty mask\n",
    "    mask = np.zeros(image.shape[:2], dtype=np.uint8)\n",
    "\n",
    "    # loop through the contours\n",
    "    for i, cnt in enumerate(contours):\n",
    "        # if the contour has no other contours inside of it\n",
    "        if hierarchy[0][i][2] == -1:\n",
    "            # if the size of the contour is greater than a threshold\n",
    "            if cv2.contourArea(cnt) <10:\n",
    "                cv2.drawContours(mask, [cnt], 0, (255), -1)\n",
    "    #plt.imshow(mask)\n",
    "    result=th+mask\n",
    "    #plt.imshow(result)\n",
    "    result = cv2.GaussianBlur(result, (3,3), 0)\n",
    "    #plt.imshow(result)\n",
    "    thresh = cv2.threshold(im_gray, 0, 255, cv2.THRESH_BINARY_INV + cv2.THRESH_OTSU)[1]\n",
    "\n",
    "    horizontal_kernel = cv2.getStructuringElement(cv2.MORPH_RECT, (25, 1))\n",
    "    detected_lines = cv2.morphologyEx(thresh, cv2.MORPH_OPEN,\n",
    "    horizontal_kernel, iterations=2)\n",
    "\n",
    "    cnts = cv2.findContours(detected_lines, cv2.RETR_EXTERNAL, cv2.CHAIN_APPROX_SIMPLE)\n",
    "    cnts = cnts[0] if len(cnts) == 2 else cnts[1]\n",
    "\n",
    "    for c in cnts:\n",
    "        cv2.drawContours(result, [c], -1, (255, 255, 255), 2)\n",
    "    #plt.imshow(result)\n",
    "    repair_kernel = cv2.getStructuringElement(cv2.MORPH_RECT, (1, 6))\n",
    "    result =255 -  cv2.morphologyEx(255 - result, cv2.MORPH_CLOSE, repair_kernel,\n",
    "                                iterations=1)\n",
    "\n",
    "\n",
    "    \n",
    "    return result"
   ]
  },
  {
   "cell_type": "code",
   "execution_count": null,
   "id": "c445f0b8",
   "metadata": {},
   "outputs": [],
   "source": []
  }
 ],
 "metadata": {
  "kernelspec": {
   "display_name": "Python 3 (ipykernel)",
   "language": "python",
   "name": "python3"
  },
  "language_info": {
   "codemirror_mode": {
    "name": "ipython",
    "version": 3
   },
   "file_extension": ".py",
   "mimetype": "text/x-python",
   "name": "python",
   "nbconvert_exporter": "python",
   "pygments_lexer": "ipython3",
   "version": "3.8.10"
  }
 },
 "nbformat": 4,
 "nbformat_minor": 5
}
