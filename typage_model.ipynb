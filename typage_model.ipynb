{
 "cells": [
  {
   "cell_type": "code",
   "execution_count": 1,
   "id": "169f3763",
   "metadata": {},
   "outputs": [
    {
     "name": "stderr",
     "output_type": "stream",
     "text": [
      "2022-04-23 13:42:49.369934: W tensorflow/stream_executor/platform/default/dso_loader.cc:64] Could not load dynamic library 'libcudart.so.11.0'; dlerror: libcudart.so.11.0: cannot open shared object file: No such file or directory\n",
      "2022-04-23 13:42:49.369982: I tensorflow/stream_executor/cuda/cudart_stub.cc:29] Ignore above cudart dlerror if you do not have a GPU set up on your machine.\n"
     ]
    },
    {
     "name": "stdout",
     "output_type": "stream",
     "text": [
      "06072020_029_01_8i2bw.pdf\n",
      "06072020_029_01_n3f50.pdf\n",
      "06072020_029_01_q72cf.pdf\n",
      "06072020_029_01_pe471.pdf\n",
      "06072020_029_01_apy5i.pdf\n",
      "06072020_029_01_uc72e.pdf\n",
      "06072020_029_01_yxgk2.pdf\n",
      "06072020_029_01_y8x6g.pdf\n"
     ]
    }
   ],
   "source": [
    "import os\n",
    "import cv2\n",
    "import tensorflow as tf\n",
    "from pdf2image import convert_from_path\n",
    "path=\"/home/yasmine/Téléchargements/data/01/\"\n",
    "path1=\"/home/yasmine/Téléchargements/data/02/\"\n",
    "path2=\"/home/yasmine/Téléchargements/data/03/\"\n",
    "path3=\"/home/yasmine/Téléchargements/data/11/\"\n",
    "i=0\n",
    "img_size=224 #224 recomended\n",
    "\n",
    "lables=[]\n",
    "data=[]\n",
    "#res = cv2.resize(RGB_img, dsize=(img_size, img_size),interpolation=cv2.INTER_CUBIC)\n",
    "for filename in os.listdir(path):\n",
    "    print(filename)\n",
    "    images = convert_from_path(path+filename)\n",
    "    #for i in range(len(images)):\n",
    "    # Save pages as images in the pdf\n",
    "    images[0].save('/home/yasmine/Téléchargements/data_img/img'+str(i)+'.jpg', 'JPEG')\n",
    "    image = cv2.imread('/home/yasmine/Téléchargements/data_img/img'+str(i)+'.jpg')\n",
    "    image = cv2.resize(image, (img_size,img_size))\n",
    "    image = tf.keras.preprocessing.image.img_to_array(image)\n",
    "    data.append(image)\n",
    "    i=i+1\n",
    "    lables.append(0)\n",
    "for filename in os.listdir(path1):\n",
    "    images = convert_from_path(path1+filename)\n",
    "    #for i in range(len(images)):\n",
    "    # Save pages as images in the pdf\n",
    "    images[0].save('/home/yasmine/Téléchargements/data_img/img'+str(i)+'.jpg', 'JPEG')\n",
    "    image = cv2.imread('/home/yasmine/Téléchargements/data_img/img'+str(i)+'.jpg')\n",
    "    image = cv2.resize(image, (img_size,img_size))\n",
    "    image = tf.keras.preprocessing.image.img_to_array(image)\n",
    "    data.append(image)\n",
    "    i=i+1\n",
    "    lables.append(1)\n",
    "for filename in os.listdir(path2):\n",
    "    images = convert_from_path(path2+filename)\n",
    "    #for i in range(len(images)):\n",
    "    # Save pages as images in the pdf\n",
    "    images[0].save('/home/yasmine/Téléchargements/data_img/img'+str(i)+'.jpg', 'JPEG')\n",
    "    image = cv2.imread('/home/yasmine/Téléchargements/data_img/img'+str(i)+'.jpg')\n",
    "    image = cv2.resize(image, (img_size,img_size))\n",
    "    image = tf.keras.preprocessing.image.img_to_array(image)\n",
    "    data.append(image)\n",
    "    i=i+1\n",
    "    lables.append(2)\n",
    "for filename in os.listdir(path3):\n",
    "    images = convert_from_path(path3+filename)\n",
    "    #for i in range(len(images)):\n",
    "    # Save pages as images in the pdf\n",
    "    images[0].save('/home/yasmine/Téléchargements/data_img/img'+str(i)+'.jpg', 'JPEG')\n",
    "    image = cv2.imread('/home/yasmine/Téléchargements/data_img/img'+str(i)+'.jpg')\n",
    "    image = cv2.resize(image, (img_size,img_size))\n",
    "    image = tf.keras.preprocessing.image.img_to_array(image)\n",
    "    data.append(image)\n",
    "    i=i+1\n",
    "    lables.append(3)"
   ]
  },
  {
   "cell_type": "code",
   "execution_count": 2,
   "id": "d6114896",
   "metadata": {},
   "outputs": [
    {
     "name": "stdout",
     "output_type": "stream",
     "text": [
      "147\n",
      "(224, 224, 3)\n",
      "(147, 4)\n"
     ]
    }
   ],
   "source": [
    "print(len(data))\n",
    "print(data[0].shape)\n",
    "#print(data[0])\n",
    "import numpy as np\n",
    "from tensorflow.keras.utils import to_categorical\n",
    "train_lables=to_categorical(lables)\n",
    "#print(train_lables)\n",
    "train_images= np.array(data)\n",
    "#train_lables = np.array(train_lables)\n",
    "\n",
    "print(train_lables.shape)"
   ]
  },
  {
   "cell_type": "code",
   "execution_count": 3,
   "id": "1a2152d3",
   "metadata": {},
   "outputs": [],
   "source": [
    "# construct the image generator for data augmentation\n",
    "from tensorflow.keras.preprocessing.image import ImageDataGenerator\n",
    "\n",
    "aug = ImageDataGenerator(\n",
    "    rotation_range=10,\n",
    "    zoom_range=0.05,\n",
    "    width_shift_range=0.1,\n",
    "    height_shift_range=0.1,\n",
    "    shear_range=0.15,\n",
    "    horizontal_flip=True,\n",
    "    fill_mode=\"nearest\")"
   ]
  },
  {
   "cell_type": "code",
   "execution_count": 4,
   "id": "eb95b0f4",
   "metadata": {},
   "outputs": [],
   "source": [
    "from sklearn.model_selection import train_test_split\n",
    "train_images, test_images, train_lables, test_lables = train_test_split(train_images, train_lables, \n",
    "                                                    test_size=0.2,\n",
    "                                                    random_state = 42)"
   ]
  },
  {
   "cell_type": "code",
   "execution_count": 5,
   "id": "9fdf4678",
   "metadata": {},
   "outputs": [
    {
     "name": "stdout",
     "output_type": "stream",
     "text": [
      "(117, 224, 224, 3)\n",
      "(117, 4)\n",
      "(30, 224, 224, 3)\n",
      "(30, 4)\n"
     ]
    }
   ],
   "source": [
    "print(train_images.shape)\n",
    "print(train_lables.shape)\n",
    "print(test_images.shape)\n",
    "print(test_lables.shape)"
   ]
  },
  {
   "cell_type": "code",
   "execution_count": 6,
   "id": "24649829",
   "metadata": {},
   "outputs": [
    {
     "name": "stdout",
     "output_type": "stream",
     "text": [
      "[[0. 0. 1. 0.]\n",
      " [0. 1. 0. 0.]\n",
      " [0. 0. 0. 1.]\n",
      " [0. 1. 0. 0.]\n",
      " [0. 0. 1. 0.]\n",
      " [0. 1. 0. 0.]\n",
      " [0. 0. 1. 0.]\n",
      " [0. 1. 0. 0.]\n",
      " [0. 0. 1. 0.]\n",
      " [0. 1. 0. 0.]\n",
      " [0. 1. 0. 0.]\n",
      " [0. 0. 1. 0.]\n",
      " [0. 0. 0. 1.]\n",
      " [0. 0. 1. 0.]\n",
      " [0. 0. 1. 0.]\n",
      " [0. 0. 1. 0.]\n",
      " [0. 1. 0. 0.]\n",
      " [0. 0. 1. 0.]\n",
      " [0. 0. 1. 0.]\n",
      " [0. 1. 0. 0.]\n",
      " [0. 1. 0. 0.]\n",
      " [0. 0. 1. 0.]\n",
      " [0. 1. 0. 0.]\n",
      " [0. 0. 1. 0.]\n",
      " [0. 1. 0. 0.]\n",
      " [0. 1. 0. 0.]\n",
      " [0. 0. 1. 0.]\n",
      " [0. 0. 1. 0.]\n",
      " [0. 0. 1. 0.]\n",
      " [0. 1. 0. 0.]]\n"
     ]
    }
   ],
   "source": [
    "print(test_lables)"
   ]
  },
  {
   "cell_type": "code",
   "execution_count": 7,
   "id": "bb70f335",
   "metadata": {},
   "outputs": [
    {
     "name": "stdout",
     "output_type": "stream",
     "text": [
      "Training Data Loaded Successfully...\n"
     ]
    },
    {
     "name": "stderr",
     "output_type": "stream",
     "text": [
      "2022-04-23 13:44:36.705582: E tensorflow/stream_executor/cuda/cuda_driver.cc:271] failed call to cuInit: CUDA_ERROR_NO_DEVICE: no CUDA-capable device is detected\n",
      "2022-04-23 13:44:36.705675: I tensorflow/stream_executor/cuda/cuda_diagnostics.cc:156] kernel driver does not appear to be running on this host (yasmine-Lenovo-ideapad-130-15IKB): /proc/driver/nvidia/version does not exist\n",
      "2022-04-23 13:44:36.792192: I tensorflow/core/platform/cpu_feature_guard.cc:151] This TensorFlow binary is optimized with oneAPI Deep Neural Network Library (oneDNN) to use the following CPU instructions in performance-critical operations:  AVX2 FMA\n",
      "To enable them in other operations, rebuild TensorFlow with the appropriate compiler flags.\n"
     ]
    },
    {
     "name": "stdout",
     "output_type": "stream",
     "text": [
      "Model: \"model\"\n",
      "_________________________________________________________________\n",
      " Layer (type)                Output Shape              Param #   \n",
      "=================================================================\n",
      " input_1 (InputLayer)        [(None, 224, 224, 3)]     0         \n",
      "                                                                 \n",
      " block1_conv1 (Conv2D)       (None, 224, 224, 64)      1792      \n",
      "                                                                 \n",
      " block1_conv2 (Conv2D)       (None, 224, 224, 64)      36928     \n",
      "                                                                 \n",
      " block1_pool (MaxPooling2D)  (None, 112, 112, 64)      0         \n",
      "                                                                 \n",
      " block2_conv1 (Conv2D)       (None, 112, 112, 128)     73856     \n",
      "                                                                 \n",
      " block2_conv2 (Conv2D)       (None, 112, 112, 128)     147584    \n",
      "                                                                 \n",
      " block2_pool (MaxPooling2D)  (None, 56, 56, 128)       0         \n",
      "                                                                 \n",
      " block3_conv1 (Conv2D)       (None, 56, 56, 256)       295168    \n",
      "                                                                 \n",
      " block3_conv2 (Conv2D)       (None, 56, 56, 256)       590080    \n",
      "                                                                 \n",
      " block3_conv3 (Conv2D)       (None, 56, 56, 256)       590080    \n",
      "                                                                 \n",
      " block3_pool (MaxPooling2D)  (None, 28, 28, 256)       0         \n",
      "                                                                 \n",
      " block4_conv1 (Conv2D)       (None, 28, 28, 512)       1180160   \n",
      "                                                                 \n",
      " block4_conv2 (Conv2D)       (None, 28, 28, 512)       2359808   \n",
      "                                                                 \n",
      " block4_conv3 (Conv2D)       (None, 28, 28, 512)       2359808   \n",
      "                                                                 \n",
      " block4_pool (MaxPooling2D)  (None, 14, 14, 512)       0         \n",
      "                                                                 \n",
      " block5_conv1 (Conv2D)       (None, 14, 14, 512)       2359808   \n",
      "                                                                 \n",
      " block5_conv2 (Conv2D)       (None, 14, 14, 512)       2359808   \n",
      "                                                                 \n",
      " block5_conv3 (Conv2D)       (None, 14, 14, 512)       2359808   \n",
      "                                                                 \n",
      " block5_pool (MaxPooling2D)  (None, 7, 7, 512)         0         \n",
      "                                                                 \n",
      " flatten (Flatten)           (None, 25088)             0         \n",
      "                                                                 \n",
      " dense (Dense)               (None, 500)               12544500  \n",
      "                                                                 \n",
      " dense_1 (Dense)             (None, 50)                25050     \n",
      "                                                                 \n",
      " dense_2 (Dense)             (None, 4)                 204       \n",
      "                                                                 \n",
      "=================================================================\n",
      "Total params: 27,284,442\n",
      "Trainable params: 27,284,442\n",
      "Non-trainable params: 0\n",
      "_________________________________________________________________\n",
      "None\n"
     ]
    },
    {
     "name": "stderr",
     "output_type": "stream",
     "text": [
      "/home/yasmine/jupyter/environment/lib/python3.8/site-packages/keras/optimizer_v2/adam.py:105: UserWarning: The `lr` argument is deprecated, use `learning_rate` instead.\n",
      "  super(Adam, self).__init__(name, **kwargs)\n"
     ]
    }
   ],
   "source": [
    "import numpy as np # linear algebra\n",
    "from tensorflow.keras.applications import VGG16\n",
    "from tensorflow.keras.layers import Dense, Dropout, Flatten\n",
    "from tensorflow.keras.optimizers import Adam\n",
    "from tensorflow.keras import Model\n",
    "from tensorflow.keras.callbacks import Callback\n",
    "import os\n",
    "from tensorflow.keras.utils import to_categorical\n",
    "from tqdm import tqdm\n",
    "from sklearn.utils import shuffle\n",
    "import matplotlib.pyplot as plt\n",
    "from sklearn.preprocessing import LabelEncoder\n",
    "from sklearn.metrics import classification_report, confusion_matrix, accuracy_score, plot_confusion_matrix\n",
    "import seaborn as sns\n",
    "\n",
    "\n",
    "SIZE = 224 #224 recomended as it is default for VGG16\n",
    "\n",
    "#train_images = np.load('Train_Data/images_train.npy') #Loading Data Generated by test_train_generator.py\n",
    "#train_labels = np.load('Train_Data/labels_train.npy')\n",
    "print('Training Data Loaded Successfully...')\n",
    "train_images,train_labels = shuffle(train_images,train_lables)\n",
    "\n",
    "''' Initializing the VGG16 with imagenet pretrained weights, with out including top 3 layers,\n",
    "Addition of custom layers and All layers of VGG16 is set to trainable'''\n",
    "\n",
    "class myCallback(Callback):\n",
    "    def on_epoch_end(self, epoch, logs={}):\n",
    "        if(logs.get('accuracy') is not None and logs.get('accuracy')>=0.95 and log.get('loss')<=0.1):\n",
    "          print(\"\\nReached 85% accuracy so cancelling training!\")\n",
    "          self.model.stop_training = True\n",
    "\n",
    "callbacks = myCallback()\n",
    "\n",
    "model = VGG16(input_shape=(SIZE, SIZE, 3),weights='imagenet', include_top=False)\n",
    "for layer in model.layers:\n",
    "    layer.trainable=True #setting VGG Layers to trainable\n",
    "output = model.output\n",
    "output = Flatten()(output)\n",
    "output = Dense(500,activation='relu')(output)\n",
    "output = Dense(50,activation='relu')(output)\n",
    "finallayer = Dense(4, activation='softmax')(output) #Here the number of output classes are 4, initialize with yours\n",
    "\n",
    "updated_model = Model(inputs = model.input, outputs=finallayer)\n",
    "\n",
    "updated_model.compile(optimizer = Adam(lr = 1e-4), loss = 'categorical_crossentropy', metrics = ['accuracy'])\n",
    "\n",
    "\n",
    "print(updated_model.summary())\n",
    "\n",
    " "
   ]
  },
  {
   "cell_type": "code",
   "execution_count": null,
   "id": "ed6bd2da",
   "metadata": {},
   "outputs": [
    {
     "name": "stdout",
     "output_type": "stream",
     "text": [
      "Epoch 1/50\n"
     ]
    },
    {
     "name": "stderr",
     "output_type": "stream",
     "text": [
      "2022-04-23 13:45:07.311696: W tensorflow/core/framework/cpu_allocator_impl.cc:82] Allocation of 642252800 exceeds 10% of free system memory.\n",
      "2022-04-23 13:45:08.373842: W tensorflow/core/framework/cpu_allocator_impl.cc:82] Allocation of 642252800 exceeds 10% of free system memory.\n",
      "2022-04-23 13:45:09.618368: W tensorflow/core/framework/cpu_allocator_impl.cc:82] Allocation of 321126400 exceeds 10% of free system memory.\n",
      "2022-04-23 13:45:10.049830: W tensorflow/core/framework/cpu_allocator_impl.cc:82] Allocation of 321126400 exceeds 10% of free system memory.\n",
      "2022-04-23 13:45:54.339369: W tensorflow/core/framework/cpu_allocator_impl.cc:82] Allocation of 321126400 exceeds 10% of free system memory.\n"
     ]
    },
    {
     "name": "stdout",
     "output_type": "stream",
     "text": [
      "3/3 - 199s - loss: 6.6506 - accuracy: 0.2991 - val_loss: 1.2241 - val_accuracy: 0.5385 - 199s/epoch - 66s/step\n",
      "Epoch 2/50\n",
      "3/3 - 175s - loss: 1.1206 - accuracy: 0.4957 - val_loss: 1.1054 - val_accuracy: 0.4872 - 175s/epoch - 58s/step\n",
      "Epoch 3/50\n",
      "3/3 - 106s - loss: 0.9807 - accuracy: 0.6667 - val_loss: 1.4588 - val_accuracy: 0.5641 - 106s/epoch - 35s/step\n",
      "Epoch 4/50\n",
      "3/3 - 111s - loss: 0.8949 - accuracy: 0.7436 - val_loss: 1.3842 - val_accuracy: 0.5299 - 111s/epoch - 37s/step\n",
      "Epoch 5/50\n",
      "3/3 - 102s - loss: 1.0044 - accuracy: 0.6325 - val_loss: 1.6256 - val_accuracy: 0.3675 - 102s/epoch - 34s/step\n",
      "Epoch 6/50\n"
     ]
    }
   ],
   "source": [
    "history = updated_model.fit(aug.flow(train_images,train_labels, batch_size=50), validation_data=aug.flow(train_images, train_lables, batch_size=10),epochs=50, verbose=2, shuffle=True,callbacks=[callbacks])\n"
   ]
  },
  {
   "cell_type": "code",
   "execution_count": 17,
   "id": "3ec052f3",
   "metadata": {},
   "outputs": [
    {
     "name": "stdout",
     "output_type": "stream",
     "text": [
      "dict_keys(['loss', 'accuracy', 'val_loss', 'val_accuracy'])\n"
     ]
    },
    {
     "data": {
      "image/png": "[encoded data removed]",
      "text/plain": [
       "<Figure size 432x288 with 1 Axes>"
      ]
     },
     "metadata": {
      "needs_background": "light"
     },
     "output_type": "display_data"
    },
    {
     "name": "stdout",
     "output_type": "stream",
     "text": [
      "Press any key to continue...\n",
      "Training has finished...\n",
      "Test Data Loaded Successfully...\n",
      "0.4583333333333333\n",
      "              precision    recall  f1-score   support\n",
      "\n",
      "           0       0.33      0.25      0.29         4\n",
      "           1       0.33      0.33      0.33         6\n",
      "           2       0.62      0.62      0.62        13\n",
      "           3       0.00      0.00      0.00         1\n",
      "\n",
      "    accuracy                           0.46        24\n",
      "   macro avg       0.32      0.30      0.31        24\n",
      "weighted avg       0.47      0.46      0.46        24\n",
      "\n"
     ]
    },
    {
     "data": {
      "image/png": "[encoded data removed]",
      "text/plain": [
       "<Figure size 432x288 with 2 Axes>"
      ]
     },
     "metadata": {
      "needs_background": "light"
     },
     "output_type": "display_data"
    },
    {
     "name": "stdout",
     "output_type": "stream",
     "text": [
      "Model is saved in Model directory...\n"
     ]
    }
   ],
   "source": [
    "\n",
    "'''Plotting Training History'''\n",
    "\n",
    "print(history.history.keys())\n",
    "plt.subplot(224)\n",
    "plt.plot(history.history['accuracy'])\n",
    "plt.plot(history.history['val_accuracy'])  # If you feed validation data / split data for validation\n",
    "plt.title('model accuracy')\n",
    "plt.ylabel('accuracy')\n",
    "plt.xlabel('epoch')\n",
    "plt.legend(['train', 'validation'], loc='upper left')\n",
    "# plt.show()\n",
    "# summarize history for loss\n",
    "plt.subplot(224)\n",
    "plt.plot(history.history['loss'])\n",
    "plt.plot(history.history['val_loss'])  # If you feed validation data / split data for validation\n",
    "plt.title('model loss')\n",
    "plt.ylabel('loss')\n",
    "plt.xlabel('epoch')\n",
    "plt.legend(['train', 'validation'], loc='upper left')\n",
    "plt.show()\n",
    "print('Press any key to continue...')\n",
    "#plt.waitforbuttonpress(timeout=- 1)\n",
    "plt.close()\n",
    "\n",
    "#del train_images\n",
    "#del train_labels\n",
    "print('Training has finished...')\n",
    "\n",
    "\n",
    "'''Testing the model and producing classification report, confusion matrix'''\n",
    "\n",
    "#test_images = np.load('Test_Data/images_test.npy')\n",
    "#test_labels = np.load('Test_Data/labels_test.npy')\n",
    "print('Test Data Loaded Successfully...')\n",
    "predicted_labels = updated_model.predict(test_images).argmax(axis=1)\n",
    "test_lables = test_lables.argmax(axis=1)\n",
    "\n",
    "print(accuracy_score(test_lables, predicted_labels))\n",
    "cm=confusion_matrix(test_lables, predicted_labels)\n",
    "print(classification_report(test_lables, predicted_labels))\n",
    "#print(confusion_matrix(test_labels.argmax(axis=1), y_pred.argmax(axis=1)))\n",
    "\n",
    "ax= plt.subplot()\n",
    "sns.heatmap(cm, fmt='g',annot=True, ax = ax,cmap=plt.cm.Blues) #annot=True to annotate cells\n",
    "\n",
    "# labels, title and ticks\n",
    "ax.set_xlabel('Predicted labels')\n",
    "ax.set_ylabel('True labels')\n",
    "ax.set_title('Confusion Matrix')\n",
    "#ax.xaxis.set_ticklabels(['cheque','retrait','versement','ordre'])\n",
    "#ax.yaxis.set_ticklabels(['cheque','retrait','versement','ordre'])\n",
    "\n",
    "plt.show()\n",
    "\n",
    "\n",
    "'''Saving the model'''\n",
    "updated_model.save(\"VGG16_DocClassifierv2.model\", save_format=\"h5\")\n",
    "\n",
    "#model.save('VGG16_DocClassifier.h5')\n",
    "\n",
    "print(\"Model is saved in Model directory...\")  "
   ]
  },
  {
   "cell_type": "code",
   "execution_count": 32,
   "id": "989d7087",
   "metadata": {},
   "outputs": [],
   "source": [
    "from tensorflow.keras.models import load_model\n",
    "\n",
    "model = load_model('VGG16_DocClassifier.model')\n"
   ]
  },
  {
   "cell_type": "code",
   "execution_count": 41,
   "id": "3ac74293",
   "metadata": {},
   "outputs": [],
   "source": [
    "#images[0].save('/home/yasmine/Téléchargements/data_img/img0.jpg', 'JPEG')\n",
    "image = cv2.imread('/home/yasmine/Téléchargements/data_img/img146.jpg')\n",
    "image = cv2.resize(image, (224,224))\n",
    "image = tf.keras.preprocessing.image.img_to_array(image)"
   ]
  },
  {
   "cell_type": "code",
   "execution_count": 42,
   "id": "4c1cd305",
   "metadata": {},
   "outputs": [
    {
     "name": "stdout",
     "output_type": "stream",
     "text": [
      "(224, 224, 3)\n",
      "(1, 224, 224, 3)\n"
     ]
    }
   ],
   "source": [
    "print(np.array(image).shape)\n",
    "print(image.reshape(1,224,224,3).shape)\n",
    "image=image.reshape(1,224,224,3)"
   ]
  },
  {
   "cell_type": "code",
   "execution_count": 43,
   "id": "5b5ade23",
   "metadata": {},
   "outputs": [],
   "source": [
    "predicted_labels = model.predict(image)\n"
   ]
  },
  {
   "cell_type": "code",
   "execution_count": 44,
   "id": "00864739",
   "metadata": {},
   "outputs": [
    {
     "name": "stdout",
     "output_type": "stream",
     "text": [
      "[[1.11392954e-04 4.85176824e-05 1.21359284e-04 9.99718726e-01]]\n"
     ]
    }
   ],
   "source": [
    "print(predicted_labels)"
   ]
  },
  {
   "cell_type": "code",
   "execution_count": 45,
   "id": "ad5a4490",
   "metadata": {},
   "outputs": [
    {
     "name": "stdout",
     "output_type": "stream",
     "text": [
      "document de classe 3\n"
     ]
    }
   ],
   "source": [
    "for i in predicted_labels :\n",
    "    if max(i)>=0.7:\n",
    "        if max(i)==i[0]:\n",
    "            print(\"document de classe 0\")\n",
    "        elif max(i)==i[1]:\n",
    "            print(\"document de classe 1\")\n",
    "        elif max(i)==i[2]:\n",
    "            print(\"document de classe 2\")\n",
    "        else:\n",
    "            print(\"document de classe 3\")\n",
    "    else:\n",
    "        print(\"classe non connue\")\n",
    "    "
   ]
  },
  {
   "cell_type": "code",
   "execution_count": null,
   "id": "a79c3b04",
   "metadata": {},
   "outputs": [],
   "source": []
  }
 ],
 "metadata": {
  "kernelspec": {
   "display_name": "Python 3 (ipykernel)",
   "language": "python",
   "name": "python3"
  },
  "language_info": {
   "codemirror_mode": {
    "name": "ipython",
    "version": 3
   },
   "file_extension": ".py",
   "mimetype": "text/x-python",
   "name": "python",
   "nbconvert_exporter": "python",
   "pygments_lexer": "ipython3",
   "version": "3.8.10"
  }
 },
 "nbformat": 4,
 "nbformat_minor": 5
}
